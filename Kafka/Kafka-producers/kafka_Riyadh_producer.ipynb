{
 "cells": [
  {
   "cell_type": "code",
   "execution_count": 1,
   "metadata": {},
   "outputs": [],
   "source": [
    "from kafka import KafkaProducer\n",
    "import pandas as pd\n",
    "from time import sleep\n",
    "from json import dumps\n",
    "import json\n",
    "from dotenv import load_dotenv\n",
    "import os"
   ]
  },
  {
   "cell_type": "code",
   "execution_count": 2,
   "metadata": {},
   "outputs": [],
   "source": [
    "load_dotenv()\n",
    "ip = os.environ[\"EC2_IP_ADDRESS\"]"
   ]
  },
  {
   "cell_type": "code",
   "execution_count": 2,
   "metadata": {},
   "outputs": [],
   "source": [
    "# Create kafka producer\n",
    "producer = KafkaProducer(bootstrap_servers=[f'{ip}:9092'],\n",
    "                         value_serializer=lambda x: \n",
    "                         dumps(x).encode('utf-8'))\n"
   ]
  },
  {
   "cell_type": "code",
   "execution_count": 3,
   "metadata": {},
   "outputs": [
    {
     "data": {
      "text/html": [
       "<div>\n",
       "<style scoped>\n",
       "    .dataframe tbody tr th:only-of-type {\n",
       "        vertical-align: middle;\n",
       "    }\n",
       "\n",
       "    .dataframe tbody tr th {\n",
       "        vertical-align: top;\n",
       "    }\n",
       "\n",
       "    .dataframe thead th {\n",
       "        text-align: right;\n",
       "    }\n",
       "</style>\n",
       "<table border=\"1\" class=\"dataframe\">\n",
       "  <thead>\n",
       "    <tr style=\"text-align: right;\">\n",
       "      <th></th>\n",
       "      <th>ID</th>\n",
       "      <th>city</th>\n",
       "      <th>timestamp</th>\n",
       "      <th>weather</th>\n",
       "      <th>temp</th>\n",
       "      <th>wind</th>\n",
       "      <th>humidity</th>\n",
       "      <th>barometer</th>\n",
       "      <th>visibility</th>\n",
       "    </tr>\n",
       "  </thead>\n",
       "  <tbody>\n",
       "    <tr>\n",
       "      <th>0</th>\n",
       "      <td>Riyadh-2017-3-23-20:00</td>\n",
       "      <td>Riyadh</td>\n",
       "      <td>2017-03-23 20:00:00</td>\n",
       "      <td>Passing clouds</td>\n",
       "      <td>19</td>\n",
       "      <td>15</td>\n",
       "      <td>49%</td>\n",
       "      <td>1011.0</td>\n",
       "      <td>3</td>\n",
       "    </tr>\n",
       "    <tr>\n",
       "      <th>1</th>\n",
       "      <td>Riyadh-2017-3-23-21:00</td>\n",
       "      <td>Riyadh</td>\n",
       "      <td>2017-03-23 21:00:00</td>\n",
       "      <td>Partly cloudy</td>\n",
       "      <td>17</td>\n",
       "      <td>13</td>\n",
       "      <td>68%</td>\n",
       "      <td>1011.0</td>\n",
       "      <td>5</td>\n",
       "    </tr>\n",
       "    <tr>\n",
       "      <th>2</th>\n",
       "      <td>Riyadh-2017-3-23-22:00</td>\n",
       "      <td>Riyadh</td>\n",
       "      <td>2017-03-23 22:00:00</td>\n",
       "      <td>Passing clouds</td>\n",
       "      <td>17</td>\n",
       "      <td>22</td>\n",
       "      <td>64%</td>\n",
       "      <td>1011.0</td>\n",
       "      <td>5</td>\n",
       "    </tr>\n",
       "    <tr>\n",
       "      <th>3</th>\n",
       "      <td>Riyadh-2017-3-24-00:00</td>\n",
       "      <td>Riyadh</td>\n",
       "      <td>2017-03-24 00:00:00</td>\n",
       "      <td>Partly cloudy</td>\n",
       "      <td>16</td>\n",
       "      <td>15</td>\n",
       "      <td>63%</td>\n",
       "      <td>1012.0</td>\n",
       "      <td>5</td>\n",
       "    </tr>\n",
       "    <tr>\n",
       "      <th>4</th>\n",
       "      <td>Riyadh-2017-3-24-01:00</td>\n",
       "      <td>Riyadh</td>\n",
       "      <td>2017-03-24 01:00:00</td>\n",
       "      <td>Passing clouds</td>\n",
       "      <td>16</td>\n",
       "      <td>6</td>\n",
       "      <td>68%</td>\n",
       "      <td>1012.0</td>\n",
       "      <td>5</td>\n",
       "    </tr>\n",
       "  </tbody>\n",
       "</table>\n",
       "</div>"
      ],
      "text/plain": [
       "                       ID    city            timestamp          weather  temp  \\\n",
       "0  Riyadh-2017-3-23-20:00  Riyadh  2017-03-23 20:00:00  Passing clouds     19   \n",
       "1  Riyadh-2017-3-23-21:00  Riyadh  2017-03-23 21:00:00   Partly cloudy     17   \n",
       "2  Riyadh-2017-3-23-22:00  Riyadh  2017-03-23 22:00:00  Passing clouds     17   \n",
       "3  Riyadh-2017-3-24-00:00  Riyadh  2017-03-24 00:00:00   Partly cloudy     16   \n",
       "4  Riyadh-2017-3-24-01:00  Riyadh  2017-03-24 01:00:00  Passing clouds     16   \n",
       "\n",
       "   wind humidity  barometer  visibility  \n",
       "0    15      49%     1011.0           3  \n",
       "1    13      68%     1011.0           5  \n",
       "2    22      64%     1011.0           5  \n",
       "3    15      63%     1012.0           5  \n",
       "4     6      68%     1012.0           5  "
      ]
     },
     "execution_count": 3,
     "metadata": {},
     "output_type": "execute_result"
    }
   ],
   "source": [
    "Riyadh_weather_df = pd.read_csv(\"~/Github_projects/kafka-saudi-weather-stream/Reorganize-dataset/Riyadh_weather_log.csv\", nrows=5)\n",
    "Riyadh_weather_df"
   ]
  },
  {
   "cell_type": "code",
   "execution_count": 13,
   "metadata": {},
   "outputs": [],
   "source": [
    "# Send events to consumer\n",
    "for event in range(len(Riyadh_weather_df)):\n",
    "    Riyadh_weather_event_log = Riyadh_weather_df.to_dict(orient='records')[event]\n",
    "    producer.send('saudi_weather_topic', value=Riyadh_weather_event_log)\n",
    "    sleep(2)"
   ]
  },
  {
   "cell_type": "code",
   "execution_count": 9,
   "metadata": {},
   "outputs": [],
   "source": [
    "# Ensures all buffered records are sent to the Kafka topic before proceeding.\n",
    "producer.flush()"
   ]
  }
 ],
 "metadata": {
  "kernelspec": {
   "display_name": "kafka-venv",
   "language": "python",
   "name": "python3"
  },
  "language_info": {
   "codemirror_mode": {
    "name": "ipython",
    "version": 3
   },
   "file_extension": ".py",
   "mimetype": "text/x-python",
   "name": "python",
   "nbconvert_exporter": "python",
   "pygments_lexer": "ipython3",
   "version": "3.10.12"
  }
 },
 "nbformat": 4,
 "nbformat_minor": 2
}

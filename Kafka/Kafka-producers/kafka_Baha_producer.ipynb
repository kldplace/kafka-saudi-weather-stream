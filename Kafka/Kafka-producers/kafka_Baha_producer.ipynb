{
 "cells": [
  {
   "cell_type": "code",
   "execution_count": 1,
   "metadata": {},
   "outputs": [],
   "source": [
    "from kafka import KafkaProducer\n",
    "import pandas as pd\n",
    "from time import sleep\n",
    "from json import dumps\n",
    "import json\n",
    "from dotenv import load_dotenv\n",
    "import os"
   ]
  },
  {
   "cell_type": "code",
   "execution_count": 2,
   "metadata": {},
   "outputs": [],
   "source": [
    "load_dotenv()\n",
    "ip = os.environ[\"EC2_IP_ADDRESS\"]"
   ]
  },
  {
   "cell_type": "code",
   "execution_count": 3,
   "metadata": {},
   "outputs": [],
   "source": [
    "# Create kafka producer\n",
    "producer = KafkaProducer(bootstrap_servers=[f'{ip}:9092'], \n",
    "                         value_serializer=lambda x: \n",
    "                         dumps(x).encode('utf-8'))\n"
   ]
  },
  {
   "cell_type": "code",
   "execution_count": 6,
   "metadata": {},
   "outputs": [
    {
     "data": {
      "text/html": [
       "<div>\n",
       "<style scoped>\n",
       "    .dataframe tbody tr th:only-of-type {\n",
       "        vertical-align: middle;\n",
       "    }\n",
       "\n",
       "    .dataframe tbody tr th {\n",
       "        vertical-align: top;\n",
       "    }\n",
       "\n",
       "    .dataframe thead th {\n",
       "        text-align: right;\n",
       "    }\n",
       "</style>\n",
       "<table border=\"1\" class=\"dataframe\">\n",
       "  <thead>\n",
       "    <tr style=\"text-align: right;\">\n",
       "      <th></th>\n",
       "      <th>ID</th>\n",
       "      <th>city</th>\n",
       "      <th>timestamp</th>\n",
       "      <th>weather</th>\n",
       "      <th>temp</th>\n",
       "      <th>wind</th>\n",
       "      <th>humidity</th>\n",
       "      <th>barometer</th>\n",
       "      <th>visibility</th>\n",
       "    </tr>\n",
       "  </thead>\n",
       "  <tbody>\n",
       "    <tr>\n",
       "      <th>0</th>\n",
       "      <td>Tabuk-2017-1-1-00:00</td>\n",
       "      <td>Tabuk</td>\n",
       "      <td>2017-01-01 00:00:00</td>\n",
       "      <td>Passing clouds</td>\n",
       "      <td>10</td>\n",
       "      <td>11</td>\n",
       "      <td>37%</td>\n",
       "      <td>1021.0</td>\n",
       "      <td>-1</td>\n",
       "    </tr>\n",
       "    <tr>\n",
       "      <th>1</th>\n",
       "      <td>Tabuk-2017-1-1-01:00</td>\n",
       "      <td>Tabuk</td>\n",
       "      <td>2017-01-01 01:00:00</td>\n",
       "      <td>Passing clouds</td>\n",
       "      <td>10</td>\n",
       "      <td>7</td>\n",
       "      <td>37%</td>\n",
       "      <td>1021.0</td>\n",
       "      <td>-1</td>\n",
       "    </tr>\n",
       "    <tr>\n",
       "      <th>2</th>\n",
       "      <td>Tabuk-2017-1-1-02:00</td>\n",
       "      <td>Tabuk</td>\n",
       "      <td>2017-01-01 02:00:00</td>\n",
       "      <td>Passing clouds</td>\n",
       "      <td>10</td>\n",
       "      <td>0</td>\n",
       "      <td>37%</td>\n",
       "      <td>1021.0</td>\n",
       "      <td>-1</td>\n",
       "    </tr>\n",
       "    <tr>\n",
       "      <th>3</th>\n",
       "      <td>Tabuk-2017-1-1-03:00</td>\n",
       "      <td>Tabuk</td>\n",
       "      <td>2017-01-01 03:00:00</td>\n",
       "      <td>Passing clouds</td>\n",
       "      <td>9</td>\n",
       "      <td>0</td>\n",
       "      <td>40%</td>\n",
       "      <td>1021.0</td>\n",
       "      <td>-1</td>\n",
       "    </tr>\n",
       "    <tr>\n",
       "      <th>4</th>\n",
       "      <td>Tabuk-2017-1-1-04:00</td>\n",
       "      <td>Tabuk</td>\n",
       "      <td>2017-01-01 04:00:00</td>\n",
       "      <td>Passing clouds</td>\n",
       "      <td>9</td>\n",
       "      <td>0</td>\n",
       "      <td>40%</td>\n",
       "      <td>1021.0</td>\n",
       "      <td>-1</td>\n",
       "    </tr>\n",
       "  </tbody>\n",
       "</table>\n",
       "</div>"
      ],
      "text/plain": [
       "                     ID   city            timestamp          weather  temp  \\\n",
       "0  Tabuk-2017-1-1-00:00  Tabuk  2017-01-01 00:00:00  Passing clouds     10   \n",
       "1  Tabuk-2017-1-1-01:00  Tabuk  2017-01-01 01:00:00  Passing clouds     10   \n",
       "2  Tabuk-2017-1-1-02:00  Tabuk  2017-01-01 02:00:00  Passing clouds     10   \n",
       "3  Tabuk-2017-1-1-03:00  Tabuk  2017-01-01 03:00:00  Passing clouds      9   \n",
       "4  Tabuk-2017-1-1-04:00  Tabuk  2017-01-01 04:00:00  Passing clouds      9   \n",
       "\n",
       "   wind humidity  barometer  visibility  \n",
       "0    11      37%     1021.0          -1  \n",
       "1     7      37%     1021.0          -1  \n",
       "2     0      37%     1021.0          -1  \n",
       "3     0      40%     1021.0          -1  \n",
       "4     0      40%     1021.0          -1  "
      ]
     },
     "execution_count": 6,
     "metadata": {},
     "output_type": "execute_result"
    }
   ],
   "source": [
    "Baha_weather_df = pd.read_csv(\"~/Github_projects/kafka-saudi-weather-stream/Reorganize-dataset/Baha_weather_log.csv\", nrows=5)\n",
    "Baha_weather_df"
   ]
  },
  {
   "cell_type": "code",
   "execution_count": 19,
   "metadata": {},
   "outputs": [],
   "source": [
    "# Send events to consumer\n",
    "for event in range(len(Baha_weather_df)):\n",
    "    Baha_weather_event_log = Baha_weather_df.to_dict(orient='records')[event]\n",
    "    producer.send('saudi_weather_topic', value=Baha_weather_event_log)\n",
    "    sleep(2)\n"
   ]
  },
  {
   "cell_type": "code",
   "execution_count": 20,
   "metadata": {},
   "outputs": [],
   "source": [
    "# Ensures all buffered records are sent to the Kafka topic before proceeding.\n",
    "producer.flush()"
   ]
  }
 ],
 "metadata": {
  "kernelspec": {
   "display_name": "kafka-venv",
   "language": "python",
   "name": "python3"
  },
  "language_info": {
   "codemirror_mode": {
    "name": "ipython",
    "version": 3
   },
   "file_extension": ".py",
   "mimetype": "text/x-python",
   "name": "python",
   "nbconvert_exporter": "python",
   "pygments_lexer": "ipython3",
   "version": "3.10.12"
  }
 },
 "nbformat": 4,
 "nbformat_minor": 2
}

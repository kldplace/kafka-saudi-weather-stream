{
 "cells": [
  {
   "cell_type": "code",
   "execution_count": 1,
   "metadata": {},
   "outputs": [],
   "source": [
    "from kafka import KafkaProducer\n",
    "import pandas as pd\n",
    "from time import sleep\n",
    "from json import dumps\n",
    "import json\n",
    "from dotenv import load_dotenv\n",
    "import os"
   ]
  },
  {
   "cell_type": "code",
   "execution_count": 2,
   "metadata": {},
   "outputs": [],
   "source": [
    "load_dotenv()\n",
    "ip = os.environ[\"EC2_IP_ADDRESS\"]"
   ]
  },
  {
   "cell_type": "code",
   "execution_count": 3,
   "metadata": {},
   "outputs": [],
   "source": [
    "# Create kafka producer\n",
    "producer = KafkaProducer(bootstrap_servers=[f'{ip}:9092'], \n",
    "                         value_serializer=lambda x: \n",
    "                         dumps(x).encode('utf-8'))\n"
   ]
  },
  {
   "cell_type": "code",
   "execution_count": 17,
   "metadata": {},
   "outputs": [
    {
     "data": {
      "text/html": [
       "<div>\n",
       "<style scoped>\n",
       "    .dataframe tbody tr th:only-of-type {\n",
       "        vertical-align: middle;\n",
       "    }\n",
       "\n",
       "    .dataframe tbody tr th {\n",
       "        vertical-align: top;\n",
       "    }\n",
       "\n",
       "    .dataframe thead th {\n",
       "        text-align: right;\n",
       "    }\n",
       "</style>\n",
       "<table border=\"1\" class=\"dataframe\">\n",
       "  <thead>\n",
       "    <tr style=\"text-align: right;\">\n",
       "      <th></th>\n",
       "      <th>ID</th>\n",
       "      <th>city</th>\n",
       "      <th>timestamp</th>\n",
       "      <th>weather</th>\n",
       "      <th>temp</th>\n",
       "      <th>wind</th>\n",
       "      <th>humidity</th>\n",
       "      <th>barometer</th>\n",
       "      <th>visibility</th>\n",
       "    </tr>\n",
       "  </thead>\n",
       "  <tbody>\n",
       "    <tr>\n",
       "      <th>0</th>\n",
       "      <td>Jazan-2017-1-1-00:00</td>\n",
       "      <td>Jazan</td>\n",
       "      <td>2017-01-01 00:00:00</td>\n",
       "      <td>Clear</td>\n",
       "      <td>12</td>\n",
       "      <td>7</td>\n",
       "      <td>100%</td>\n",
       "      <td>1026.0</td>\n",
       "      <td>16</td>\n",
       "    </tr>\n",
       "    <tr>\n",
       "      <th>1</th>\n",
       "      <td>Jazan-2017-1-1-01:00</td>\n",
       "      <td>Jazan</td>\n",
       "      <td>2017-01-01 01:00:00</td>\n",
       "      <td>Clear</td>\n",
       "      <td>12</td>\n",
       "      <td>7</td>\n",
       "      <td>88%</td>\n",
       "      <td>1026.0</td>\n",
       "      <td>16</td>\n",
       "    </tr>\n",
       "    <tr>\n",
       "      <th>2</th>\n",
       "      <td>Jazan-2017-1-1-02:00</td>\n",
       "      <td>Jazan</td>\n",
       "      <td>2017-01-01 02:00:00</td>\n",
       "      <td>Clear</td>\n",
       "      <td>12</td>\n",
       "      <td>7</td>\n",
       "      <td>82%</td>\n",
       "      <td>1026.0</td>\n",
       "      <td>16</td>\n",
       "    </tr>\n",
       "    <tr>\n",
       "      <th>3</th>\n",
       "      <td>Jazan-2017-1-1-03:00</td>\n",
       "      <td>Jazan</td>\n",
       "      <td>2017-01-01 03:00:00</td>\n",
       "      <td>Clear</td>\n",
       "      <td>11</td>\n",
       "      <td>7</td>\n",
       "      <td>88%</td>\n",
       "      <td>1026.0</td>\n",
       "      <td>16</td>\n",
       "    </tr>\n",
       "    <tr>\n",
       "      <th>4</th>\n",
       "      <td>Jazan-2017-1-1-04:00</td>\n",
       "      <td>Jazan</td>\n",
       "      <td>2017-01-01 04:00:00</td>\n",
       "      <td>Clear</td>\n",
       "      <td>11</td>\n",
       "      <td>6</td>\n",
       "      <td>88%</td>\n",
       "      <td>1026.0</td>\n",
       "      <td>16</td>\n",
       "    </tr>\n",
       "  </tbody>\n",
       "</table>\n",
       "</div>"
      ],
      "text/plain": [
       "                     ID   city            timestamp weather  temp  wind  \\\n",
       "0  Jazan-2017-1-1-00:00  Jazan  2017-01-01 00:00:00  Clear     12     7   \n",
       "1  Jazan-2017-1-1-01:00  Jazan  2017-01-01 01:00:00  Clear     12     7   \n",
       "2  Jazan-2017-1-1-02:00  Jazan  2017-01-01 02:00:00  Clear     12     7   \n",
       "3  Jazan-2017-1-1-03:00  Jazan  2017-01-01 03:00:00  Clear     11     7   \n",
       "4  Jazan-2017-1-1-04:00  Jazan  2017-01-01 04:00:00  Clear     11     6   \n",
       "\n",
       "  humidity  barometer  visibility  \n",
       "0     100%     1026.0          16  \n",
       "1      88%     1026.0          16  \n",
       "2      82%     1026.0          16  \n",
       "3      88%     1026.0          16  \n",
       "4      88%     1026.0          16  "
      ]
     },
     "execution_count": 17,
     "metadata": {},
     "output_type": "execute_result"
    }
   ],
   "source": [
    "Jazan_weather_df = pd.read_csv(\"~/Github_projects/kafka-saudi-weather-stream/Reorganize-dataset/Jazan_weather_log.csv\", nrows=5)\n",
    "Jazan_weather_df"
   ]
  },
  {
   "cell_type": "code",
   "execution_count": 18,
   "metadata": {},
   "outputs": [],
   "source": [
    "# Send events to consumer\n",
    "for event in range(len(Jazan_weather_df)):\n",
    "    Jazan_weather_event_log = Jazan_weather_df.to_dict(orient='records')[event]\n",
    "    producer.send('saudi_weather_topic', value=Jazan_weather_event_log)\n",
    "    sleep(2)"
   ]
  },
  {
   "cell_type": "code",
   "execution_count": 16,
   "metadata": {},
   "outputs": [],
   "source": [
    "# Ensures all buffered records are sent to the Kafka topic before proceeding.\n",
    "producer.flush()"
   ]
  }
 ],
 "metadata": {
  "kernelspec": {
   "display_name": "kafka-venv",
   "language": "python",
   "name": "python3"
  },
  "language_info": {
   "codemirror_mode": {
    "name": "ipython",
    "version": 3
   },
   "file_extension": ".py",
   "mimetype": "text/x-python",
   "name": "python",
   "nbconvert_exporter": "python",
   "pygments_lexer": "ipython3",
   "version": "3.10.12"
  }
 },
 "nbformat": 4,
 "nbformat_minor": 2
}

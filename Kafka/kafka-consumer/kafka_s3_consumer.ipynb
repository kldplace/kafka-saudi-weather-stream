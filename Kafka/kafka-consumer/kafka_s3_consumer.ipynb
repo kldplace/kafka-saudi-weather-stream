{
 "cells": [
  {
   "cell_type": "code",
   "execution_count": 1,
   "metadata": {},
   "outputs": [],
   "source": [
    "from kafka import KafkaConsumer\n",
    "import pandas as pd\n",
    "from time import sleep\n",
    "from json import dumps,loads\n",
    "import json\n",
    "import boto3"
   ]
  },
  {
   "cell_type": "code",
   "execution_count": null,
   "metadata": {},
   "outputs": [],
   "source": [
    "# Create kafka consumer\n",
    "consumer = KafkaConsumer(\n",
    "    'saudi_weather_topic',\n",
    "     bootstrap_servers=['16.24.25.2:9092'], \n",
    "    value_deserializer=lambda x: loads(x.decode('utf-8')))"
   ]
  },
  {
   "cell_type": "code",
   "execution_count": null,
   "metadata": {},
   "outputs": [],
   "source": [
    "client = boto3.client('s3')"
   ]
  },
  {
   "cell_type": "code",
   "execution_count": null,
   "metadata": {},
   "outputs": [],
   "source": [
    "# Bucket consumer\n",
    "def upload_to_s3_bucket(bucket_name):\n",
    "    # This loop to get event streaming records that comes from the producers\n",
    "    for count, event in enumerate(consumer, start=1):\n",
    "        city_name = event.value.get('city')\n",
    "        client.put_object(\n",
    "            Bucket=bucket_name, \n",
    "            Key=f'{city_name}_weather_event_{count:02}.json',\n",
    "            Body= json.dumps(event.value)\n",
    "        )\n",
    "        \n",
    "        \n",
    "upload_to_s3_bucket(\"saudi-weather-kafka-logs\")"
   ]
  }
 ],
 "metadata": {
  "kernelspec": {
   "display_name": ".venv",
   "language": "python",
   "name": "python3"
  },
  "language_info": {
   "codemirror_mode": {
    "name": "ipython",
    "version": 3
   },
   "file_extension": ".py",
   "mimetype": "text/x-python",
   "name": "python",
   "nbconvert_exporter": "python",
   "pygments_lexer": "ipython3",
   "version": "3.10.12"
  }
 },
 "nbformat": 4,
 "nbformat_minor": 2
}
